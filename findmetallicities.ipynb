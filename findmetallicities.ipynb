{
 "cells": [
  {
   "cell_type": "code",
   "execution_count": 1,
   "metadata": {},
   "outputs": [
    {
     "name": "stderr",
     "output_type": "stream",
     "text": [
      "/home/nbrunaci/.local/lib/python3.9/site-packages/marvin/core/exceptions.py:50: UserWarning: cannot initiate Sentry error reporting: [Errno 6] No such device or address.\n",
      "  warnings.warn('cannot initiate Sentry error reporting: {0}.'.format(str(ee)),\n",
      "\u001b[0;34m[INFO]: \u001b[0mNo release version set. Setting default to DR15\n",
      "\u001b[1;33m[WARNING]: \u001b[0m\u001b[0;39mpath /home/nbrunaci/sas/mangawork/manga/spectro/redux/v2_4_3/drpall-v2_4_3.fits cannot be found. Setting drpall to None.\u001b[0m \u001b[0;36m(MarvinUserWarning)\u001b[0m\n",
      "\u001b[1;33m[WARNING]: \u001b[0m\u001b[0;39mpath /home/nbrunaci/sas/mangawork/manga/spectro/analysis/v2_4_3/2.2.1/dapall-v2_4_3-2.2.1.fits cannot be found. Setting dapall to None.\u001b[0m \u001b[0;36m(MarvinUserWarning)\u001b[0m\n"
     ]
    }
   ],
   "source": [
    "# Import packages\n",
    "\n",
    "import marvin\n",
    "from marvin.tools.maps import Maps\n",
    "from marvin.tools import Image\n",
    "\n",
    "import numpy as np\n",
    "import numpy.ma as ma\n",
    "from numpy import log10, pi\n",
    "\n",
    "import matplotlib.pyplot as plt\n",
    "\n",
    "from astropy.io import fits\n",
    "import astropy.constants as const"
   ]
  },
  {
   "cell_type": "code",
   "execution_count": 2,
   "metadata": {},
   "outputs": [],
   "source": [
    "# Takes in plate and IFU numbers of a galaxy, returns nested dictionary of each relevent emission line's flux and inverse variance in masked arrays\n",
    "# Called by addDiagnostics function\n",
    "def getDataMap(plate,ifu):\n",
    "    plateifu = plate + '-' + ifu\n",
    "    maps = Maps(plateifu)\n",
    "    \n",
    "    # Obtaining redshift data from drpall fits file\n",
    "    with fits.open('drpall-v2_4_3.fits', memmap=True) as drpall:\n",
    "        tbdata = drpall[1].data\n",
    "        ind = np.where(tbdata['plateifu'] == plateifu)\n",
    "        redshift = tbdata['nsa_z'][ind][0]# This [0] is here because each z value seems to be in its own array for some reason\n",
    "    \n",
    "    # Observed emission lines\n",
    "    HaF_map = maps[\"emline_gflux_ha_6564\"]\n",
    "    HbF_map = maps[\"emline_gflux_hb_4862\"]\n",
    "    OII_map = maps[\"emline_gflux_oii_3727\"]\n",
    "    OIII_map = maps[\"emline_gflux_oiii_5008\"]\n",
    "    NII_map = maps[\"emline_gflux_nii_6585\"]\n",
    "    \n",
    "    # Flux for observed lines (masked arrays)\n",
    "    HaF_flux_m = HaF_map.masked\n",
    "    HbF_flux_m = HbF_map.masked\n",
    "    OII_flux_m = OII_map.masked\n",
    "    OIII_flux_m = OIII_map.masked\n",
    "    NII_flux_m = NII_map.masked\n",
    "    \n",
    "    \n",
    "    # Inverse variance for observed lines (masked arrays)\n",
    "    HaF_ivar_m = ma.array(HaF_map.ivar,mask=HaF_map.mask)\n",
    "    HbF_ivar_m = ma.array(HbF_map.ivar,mask=HbF_map.mask)\n",
    "    OII_ivar_m = ma.array(OII_map.ivar,mask=OII_map.mask)\n",
    "    OIII_ivar_m = ma.array(OIII_map.ivar,mask=OIII_map.mask)\n",
    "    NII_ivar_m = ma.array(NII_map.ivar,mask=NII_map.mask)\n",
    "    \n",
    "    return{\n",
    "        'z': redshift,\n",
    "        'HaF': {'flux': HaF_flux_m, 'ivar': HaF_ivar_m},\n",
    "        'HbF': {'flux': HbF_flux_m, 'ivar': HbF_ivar_m},\n",
    "        'OII': {'flux': OII_flux_m, 'ivar': OII_ivar_m},\n",
    "        'OIII': {'flux': OIII_flux_m, 'ivar': OIII_ivar_m},\n",
    "        'NII': {'flux': NII_flux_m, 'ivar': NII_ivar_m}\n",
    "    }"
   ]
  },
  {
   "cell_type": "code",
   "execution_count": 3,
   "metadata": {},
   "outputs": [],
   "source": [
    "# Takes in plate and IFU numbers of a galaxy, returns dictionary of observed lines from getDataMap function plus calculated abundance diagnostics\n",
    "def addDiagnostics(plate,ifu):\n",
    "    observed = getDataMap(plate,ifu)\n",
    "    \n",
    "    HaF_flux_m = observed['HaF']['flux']\n",
    "    HbF_flux_m = observed['HbF']['flux']\n",
    "    OII_flux_m = observed['OII']['flux']\n",
    "    OIII_flux_m = observed['OIII']['flux']\n",
    "    NII_flux_m = observed['NII']['flux']\n",
    "    HaF_ivar_m = observed['HaF']['ivar']\n",
    "    HbF_ivar_m = observed['HbF']['ivar']\n",
    "    OII_ivar_m = observed['OII']['ivar']\n",
    "    OIII_ivar_m = observed['OIII']['ivar']\n",
    "    NII_ivar_m = observed['NII']['ivar']\n",
    "    \n",
    "    # Flux for calculated abundance diagnostics (masked)\n",
    "    N2_flux_m = NII_flux_m / HaF_flux_m\n",
    "    O3N2_flux_m = OIII_flux_m / HbF_flux_m / N2_flux_m\n",
    "    N2O2_flux_m = NII_flux_m / OII_flux_m\n",
    "    \n",
    "    # Inverse variance for calculated abuance diagnostics (masked)\n",
    "    N2_ivar_m = 1.0/(1.0/(HaF_flux_m*HaF_flux_m*NII_ivar_m)+NII_flux_m/(HaF_flux_m*HaF_flux_m*HaF_ivar_m))\n",
    "    O3N2_ivar_m = 1.0/(      1.0/((HbF_flux_m*NII_flux_m*HaF_flux_m)**2*OIII_ivar_m) + \n",
    "                       (OIII_flux_m/(HbF_flux_m**2*NII_flux_m*HaF_flux_m))**2/HbF_ivar_m + \n",
    "                       (OIII_flux_m/(HbF_flux_m*NII_flux_m**2*HaF_flux_m))**2/NII_ivar_m +\n",
    "                       (OIII_flux_m/(HbF_flux_m*NII_flux_m*HaF_flux_m**2))**2/HaF_ivar_m    )\n",
    "    N2O2_ivar_m = 1.0/(1.0/(OII_flux_m*OII_flux_m*NII_ivar_m)+NII_flux_m/(OII_flux_m*OII_flux_m*OII_ivar_m))\n",
    "    \n",
    "    diagnostics = {\n",
    "        'N2': {'flux': N2_flux_m, 'ivar': N2_ivar_m},\n",
    "        'O3N2': {'flux': O3N2_flux_m, 'ivar': O3N2_ivar_m},\n",
    "        'N2O2': {'flux': N2O2_flux_m, 'ivar': N2O2_ivar_m}\n",
    "    }\n",
    "    return observed | diagnostics"
   ]
  },
  {
   "cell_type": "code",
   "execution_count": 4,
   "metadata": {},
   "outputs": [],
   "source": [
    "# Takes in plate and IFU numbers of a galaxy, returns mass map; note that the values in the mass map are actually the log10 of the mass density\n",
    "def getMassMap(plate,ifu):\n",
    "    plateifu = plate + '-' + ifu\n",
    "    path = '/scratch/kdougla7/data/SDSS/dr15/manga/spectro/pipe3d/v2_4_3/2.4.3/'+plate+'/manga-'+plateifu+'.Pipe3D.cube.fits.gz'\n",
    "    with fits.open(path, memmap=True) as file:\n",
    "        massMap = file[1].data[19]# This should access the log10 of stellar mass density per pixel with dust correction\n",
    "    return massMap"
   ]
  },
  {
   "cell_type": "code",
   "execution_count": 5,
   "metadata": {},
   "outputs": [],
   "source": [
    "# Takes in output from addDiagnostics function, returns dictionary of inverse variance arrays for each metallicity method\n",
    "# Called by findMetallicities function\n",
    "def getIvars(dataMap):\n",
    "    # Constants (The letters used here are of no significance)\n",
    "    D = 0.58\n",
    "    E = 0.19\n",
    "    M = 1.0/2.5\n",
    "    N = 5.91\n",
    "    W = 0.32\n",
    "    X = 0.18\n",
    "    P = 0.54\n",
    "    S = 0.36\n",
    "    ln10 = ma.log(10)\n",
    "    \n",
    "    # N2 ivar calculations:\n",
    "    # N2_metallicity = f(a,b,n) where a=HaF, b=HbF, n=NII\n",
    "    # f = 9.12 + D*log10(n/a) - E*(log10(a)+M*N*log10(a/b)+constants)\n",
    "    # ivar_f = 1.0 / ( (df/da)**2/ivar_a + (df/db)**2/ivar_b + (df/dn)**2/ivar_n ) where d means partial derivative\n",
    "    # Evaluated: ivar_f = 1.0 / ( ((D+E+M*N*E)/ln10)**2/(a**2*ivar_a) + (M*N*E/ln10)**2/(b**2*ivar_b) + (D/ln10)**2/(n**2*ivar_n) )\n",
    "    N2_metallicity_ivar = 1.0 / (((D+E+M*N*E)/ln10)**2/(dataMap['HaF']['flux']**2*dataMap['HaF']['ivar']) + \n",
    "                                 (M*N*E/ln10)**2/(dataMap['HbF']['flux']**2*dataMap['HbF']['ivar']) + \n",
    "                                 (D/ln10)**2/(dataMap['NII']['flux']**2*dataMap['NII']['ivar']))\n",
    "    \n",
    "    # O3N2 ivar calculations:\n",
    "    # O3N2_metallicity = f(a,b,n,o) where a=HaF, b=HbF, n=NII, o=OIII\n",
    "    # f = 8.98 - W*log10(o/(a*b*n)) - X*(log10(a)+M*N*log10(a/b)+constants)\n",
    "    # ivar_f = 1.0 / ( (df/da)**2/ivar_a + (df/db)**2/ivar_b + (df/dn)**2/ivar_n + (df/do)**2/ivar_o ) where d means partial derivative\n",
    "    # Evaluated: ivar_f = 1.0 / ( ((X*(M*N+1)-W)/ln10)**2/(a**2*ivar_a) + ((X*M*N+W)/ln10)**2/(b**2*ivar_b) + (W/ln10)**2/(n**2*ivar_n) + (W/ln10)**2/(o**2*ivar_o) )\n",
    "    O3N2_metallicity_ivar = 1.0 / (((X*(M*N+1)-W)/ln10)**2/(dataMap['HaF']['flux']**2*dataMap['HaF']['ivar']) + \n",
    "                                   ((X*M*N+W)/ln10)**2/(dataMap['HbF']['flux']**2*dataMap['HbF']['ivar']) + \n",
    "                                   (W/ln10)**2/(dataMap['NII']['flux']**2*dataMap['NII']['ivar']) + \n",
    "                                   (W/ln10)**2/(dataMap['OIII']['flux']**2*dataMap['OIII']['ivar']))\n",
    "    \n",
    "    # N2O2 ivar calculations:\n",
    "    # N2O2_metallicity = f(a,b,n,o) where a=HaF, b=HbF, n=NII, o=OII (Note: Not the same o as used in above O3N2 calculations)\n",
    "    # f = 9.20 - P*log10(n/o) - S*(log10(a)+M*N*log10(a/b)+constants)\n",
    "    # ivar_f = 1.0 / ( (df/da)**2/ivar_a + (df/db)**2/ivar_b + (df/dn)**2/ivar_n + (df/do)**2/ivar_o ) where d means partial derivative\n",
    "    # Evaluated: ivar_f = 1.0 / ( (S*(M*N+1)/ln10)**2/(a**2*ivar_a) + (S*M*N/ln10)**2/(b**2*ivar_b) + (P/ln10)**2/(n**2*ivar_n) + (P/ln10)**2/(o**2*ivar_o) )\n",
    "    N2O2_metallicity_ivar = 1.0 / ((S*(M*N+1)/ln10)**2/(dataMap['HaF']['flux']**2*dataMap['HaF']['ivar']) + \n",
    "                                   (S*M*N/ln10)**2/(dataMap['HbF']['flux']**2*dataMap['HbF']['ivar']) + \n",
    "                                   (P/ln10)**2/(dataMap['NII']['flux']**2*dataMap['NII']['ivar']) + \n",
    "                                   (P/ln10)**2/(dataMap['OII']['flux']**2*dataMap['OII']['ivar']))\n",
    "    \n",
    "    return {\n",
    "        'N2': N2_metallicity_ivar,\n",
    "        'O3N2': O3N2_metallicity_ivar,\n",
    "        'N2O2': N2O2_metallicity_ivar\n",
    "    }"
   ]
  },
  {
   "cell_type": "code",
   "execution_count": 6,
   "metadata": {},
   "outputs": [],
   "source": [
    "# Takes in output from addDiagnostics and getMassMap functions, calculates and returns metallicities and their inverse variances\n",
    "# dataMap must be a dictionary of the masked flux and ivar of each emission line, as is output by addDiagnostics\n",
    "# massMap must be a map the log10 of stellar mass values such as that returned by getMassMap\n",
    "def findMetallicities(dataMap,massMap):\n",
    "    \n",
    "    z = dataMap['z']\n",
    "    c = const.c.value/1000# Speed of light (km/s)\n",
    "    H0 = 70# Hubble constant (km/s/Mpc)\n",
    "    logmass = massMap# Map of the log10 of stellar mass density per pixel with dust correction; units are log(M_solar/spax**2)\n",
    "\n",
    "    dl = z*c/H0*3.086*10**24# Distance luminosity converted from Mpc to cm\n",
    "    AHa_map = 5.91 * ma.log10(dataMap['HaF']['flux'] / dataMap['HbF']['flux']) - 2.70# Moorman; unitless\n",
    "    fHa_map = dataMap['HaF']['flux'] * ( 10 ** ( AHa_map / 2.5) )# Implied in Moorman; units are erg/(cm**2*s)\n",
    "    LHa_map = 4*pi*dl**2*fHa_map# Moorman; units are erg/s\n",
    "    SFR_map = 7.9*10**(-41.28)*LHa_map# Moorman Eq 6; units are M_solar/yr; factor here should convert units from erg/s to M_solar/yr according to Kennicutt Eq 2\n",
    "    logSSFR_map = ma.log10(SFR_map) - logmass# By definition of SSFR; units are log(yr**-1)\n",
    "    \n",
    "    # Brown et al Eq 6\n",
    "    logSSFR_Mstar = 283.728 - 116.265 * logmass + 17.4403 * logmass**2 - 1.17146 * logmass**3 + 0.0296526 * logmass**4# Units are log(M_solar)\n",
    "\n",
    "    # Brown et al Eq 2\n",
    "    deltaLogSSFR = logSSFR_map - logSSFR_Mstar# Units are yr**-1\n",
    "    \n",
    "    # N2 (Brown et al Eq 7), O3N2 (Brown et al Eq 8), and N2O2 (Brown et al Eq 9) metallicities\n",
    "    N2_metallicity = 9.12 + 0.58 * ma.log10(dataMap['N2']['flux']) - 0.19 * deltaLogSSFR# Unitless (or dex)\n",
    "    O3N2_metallicity = 8.98 - 0.32 * ma.log10(dataMap['O3N2']['flux']) - 0.18 * deltaLogSSFR\n",
    "    N2O2_metallicity = 9.20 + 0.54 * ma.log10(dataMap['N2O2']['flux']) - 0.36 * deltaLogSSFR\n",
    "    \n",
    "    ivars = getIvars(dataMap)\n",
    "    \n",
    "    return{\n",
    "        'N2':{'metallicity': N2_metallicity, 'ivar': ivars['N2']},\n",
    "        'O3N2':{'metallicity': O3N2_metallicity, 'ivar': ivars['O3N2']},\n",
    "        'N2O2':{'metallicity': N2O2_metallicity, 'ivar': ivars['N2O2']}\n",
    "    }"
   ]
  },
  {
   "cell_type": "code",
   "execution_count": 7,
   "metadata": {},
   "outputs": [
    {
     "name": "stderr",
     "output_type": "stream",
     "text": [
      "\u001b[1;33m[WARNING]: \u001b[0m\u001b[0;39mdivide by zero encountered in true_divide\u001b[0m \u001b[0;36m(RuntimeWarning)\u001b[0m\n"
     ]
    },
    {
     "data": {
      "text/plain": [
       "<matplotlib.colorbar.Colorbar at 0x2b30f84c7d00>"
      ]
     },
     "execution_count": 7,
     "metadata": {},
     "output_type": "execute_result"
    },
    {
     "data": {
      "image/png": "[encoded data removed]",
      "text/plain": [
       "<Figure size 432x288 with 2 Axes>"
      ]
     },
     "metadata": {
      "needs_background": "light"
     },
     "output_type": "display_data"
    }
   ],
   "source": [
    "# Calling the functions\n",
    "\n",
    "objmaps = addDiagnostics('8485','1901')\n",
    "massMap = getMassMap('8485','1901')\n",
    "results = findMetallicities(objmaps,massMap)\n",
    "plt.imshow(results['N2']['metallicity'])\n",
    "plt.colorbar()"
   ]
  },
  {
   "cell_type": "code",
   "execution_count": null,
   "metadata": {},
   "outputs": [],
   "source": []
  }
 ],
 "metadata": {
  "kernelspec": {
   "display_name": "Python 3 (3.9.5)",
   "language": "python",
   "name": "python3-3.9.5"
  },
  "language_info": {
   "codemirror_mode": {
    "name": "ipython",
    "version": 3
   },
   "file_extension": ".py",
   "mimetype": "text/x-python",
   "name": "python",
   "nbconvert_exporter": "python",
   "pygments_lexer": "ipython3",
   "version": "3.9.5"
  }
 },
 "nbformat": 4,
 "nbformat_minor": 2
}
