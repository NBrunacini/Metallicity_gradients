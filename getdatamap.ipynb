{
 "cells": [
  {
   "cell_type": "code",
   "execution_count": 1,
   "metadata": {},
   "outputs": [
    {
     "name": "stderr",
     "output_type": "stream",
     "text": [
      "/home/nbrunaci/.local/lib/python3.9/site-packages/marvin/core/exceptions.py:50: UserWarning: cannot initiate Sentry error reporting: [Errno 6] No such device or address.\n",
      "  warnings.warn('cannot initiate Sentry error reporting: {0}.'.format(str(ee)),\n",
      "\u001b[0;34m[INFO]: \u001b[0mNo release version set. Setting default to DR15\n",
      "\u001b[1;33m[WARNING]: \u001b[0m\u001b[0;39mpath /home/nbrunaci/sas/mangawork/manga/spectro/redux/v2_4_3/drpall-v2_4_3.fits cannot be found. Setting drpall to None.\u001b[0m \u001b[0;36m(MarvinUserWarning)\u001b[0m\n",
      "\u001b[1;33m[WARNING]: \u001b[0m\u001b[0;39mpath /home/nbrunaci/sas/mangawork/manga/spectro/analysis/v2_4_3/2.2.1/dapall-v2_4_3-2.2.1.fits cannot be found. Setting dapall to None.\u001b[0m \u001b[0;36m(MarvinUserWarning)\u001b[0m\n"
     ]
    }
   ],
   "source": [
    "# Import packages\n",
    "import marvin\n",
    "from marvin.tools.maps import Maps\n",
    "import numpy as np\n",
    "import numpy.ma as ma\n",
    "import matplotlib.pyplot as plt"
   ]
  },
  {
   "cell_type": "code",
   "execution_count": 9,
   "metadata": {},
   "outputs": [],
   "source": [
    "# Returns nested dictionary of each relevent emission line's masked flux and masked inverse variance\n",
    "def getDataMap(plate,ifu):# plate number and ifu number\n",
    "    plateifu = plate + '-' + ifu\n",
    "#     cube = marvin.tools.Cube(plateifu)\n",
    "    \n",
    "    maps = Maps(plateifu)\n",
    "#     redshift = maps.nsa['z']# Helpful values can be found in the NSA catalog\n",
    "    HaF_map = maps[\"emline_gflux_ha_6564\"]\n",
    "    HbF_map = maps[\"emline_gflux_hb_4862\"]\n",
    "    OII_map = maps[\"emline_gflux_oii_3727\"]\n",
    "    OIII_map = maps[\"emline_gflux_oiii_5008\"]\n",
    "    NII_map = maps[\"emline_gflux_nii_6585\"]\n",
    "    \n",
    "    HaF_flux_m = HaF_map.masked# Masked flux of HaF\n",
    "    HbF_flux_m = HbF_map.masked\n",
    "    OII_flux_m = OII_map.masked\n",
    "    OIII_flux_m = OIII_map.masked\n",
    "    NII_flux_m = NII_map.masked\n",
    "    \n",
    "    HaF_ivar_m = ma.array(HaF_map.ivar,mask=HaF_map.mask)# Masked inverse variance of HaF\n",
    "    HbF_ivar_m = ma.array(HbF_map.ivar,mask=HbF_map.mask)\n",
    "    OII_ivar_m = ma.array(OII_map.ivar,mask=OII_map.mask)\n",
    "    OIII_ivar_m = ma.array(OIII_map.ivar,mask=OIII_map.mask)\n",
    "    NII_ivar_m = ma.array(NII_map.ivar,mask=NII_map.mask)\n",
    "    \n",
    "    return{\n",
    "        'HaF': {'flux': HaF_flux_m, 'ivar': HaF_ivar_m},\n",
    "        'HbF': {'flux': HbF_flux_m, 'ivar': HbF_ivar_m},\n",
    "        'OII': {'flux': OII_flux_m, 'ivar': OII_ivar_m},\n",
    "        'OIII': {'flux': OIII_flux_m, 'ivar': OIII_ivar_m},\n",
    "        'NII': {'flux': NII_flux_m, 'ivar': NII_ivar_m}\n",
    "    }\n",
    "    \n",
    "# Example of accessing data\n",
    "# objmaps = getDataMap('8485','1901')\n",
    "# objmaps['HaF']['ivar']"
   ]
  }
 ],
 "metadata": {
  "kernelspec": {
   "display_name": "Python 3 (3.9.5)",
   "language": "python",
   "name": "python3-3.9.5"
  },
  "language_info": {
   "codemirror_mode": {
    "name": "ipython",
    "version": 3
   },
   "file_extension": ".py",
   "mimetype": "text/x-python",
   "name": "python",
   "nbconvert_exporter": "python",
   "pygments_lexer": "ipython3",
   "version": "3.9.5"
  }
 },
 "nbformat": 4,
 "nbformat_minor": 2
}
